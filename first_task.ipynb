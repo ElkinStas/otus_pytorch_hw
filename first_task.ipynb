{
 "cells": [
  {
   "cell_type": "code",
   "execution_count": 8,
   "metadata": {},
   "outputs": [],
   "source": [
    "# Импортируем библиотеки\n",
    "import torch\n",
    "import torch.nn as nn\n",
    "import matplotlib.pyplot as plt\n",
    "\n",
    "import numpy as np\n",
    "\n",
    "from torch.autograd import Variable\n",
    "from torch.utils.data import DataLoader\n",
    "import pandas as pd\n",
    "from sklearn.model_selection import train_test_split"
   ]
  },
  {
   "cell_type": "code",
   "execution_count": 9,
   "metadata": {},
   "outputs": [
    {
     "data": {
      "image/png": "[encoded data removed]",
      "text/plain": [
       "<Figure size 432x288 with 1 Axes>"
      ]
     },
     "metadata": {
      "needs_background": "light"
     },
     "output_type": "display_data"
    }
   ],
   "source": [
    "# Подготовка датасета\n",
    "# Загрузить данные\n",
    "train = pd.read_csv(r\"./train.csv\",dtype = np.float32)\n",
    "\n",
    "# Разобьем данные на пиксели(features) и классы на которые будем делить(цифры от 0 до 9)\n",
    "targets_numpy = train.label.values\n",
    "features_numpy = train.loc[:,train.columns != \"label\"].values/255 # Нормализация\n",
    "\n",
    "# train test split.  Размер тестовый = 0.2, соответсвенно тренировочный будет 0.8. \n",
    "features_train, features_test, targets_train, targets_test = train_test_split(features_numpy,\n",
    "                                                                             targets_numpy,\n",
    "                                                                             test_size = 0.2,\n",
    "                                                                             random_state = 42) \n",
    "\n",
    "# Создадим feature и целевой тензор для тренировочного датасета.\n",
    "# Для того чтобы переменные могли аккумулировать градиенты, мы должны создать тензор в котором они будут хранится.\n",
    "featuresTrain = torch.from_numpy(features_train)\n",
    "targetsTrain = torch.from_numpy(targets_train).type(torch.LongTensor) \n",
    "\n",
    "# Аналогично для тестового датасета.\n",
    "featuresTest = torch.from_numpy(features_test)\n",
    "targetsTest = torch.from_numpy(targets_test).type(torch.LongTensor)\n",
    "\n",
    "# batch_size == размер батча, epoch == количество эпох обучения и iteration == количество итераций\n",
    "batch_size = 100\n",
    "n_iters = 10000\n",
    "num_epochs = n_iters / (len(features_train) / batch_size)\n",
    "num_epochs = int(num_epochs)\n",
    "\n",
    "# Датасет в Pytorch \n",
    "train = torch.utils.data.TensorDataset(featuresTrain,targetsTrain)\n",
    "test = torch.utils.data.TensorDataset(featuresTest,targetsTest)\n",
    "\n",
    "# создадим загрузчик данных в PyTorch - data loader\n",
    "train_loader = DataLoader(train, batch_size = batch_size, shuffle = False)\n",
    "test_loader = DataLoader(test, batch_size = batch_size, shuffle = False)\n",
    "\n",
    "# Визуализируем одно из изображений\n",
    "plt.imshow(features_numpy[10].reshape(28,28))\n",
    "plt.axis(\"off\")\n",
    "plt.title(str(targets_numpy[10]))\n",
    "plt.savefig('graph.png')\n",
    "plt.show()"
   ]
  },
  {
   "cell_type": "code",
   "execution_count": 10,
   "metadata": {},
   "outputs": [],
   "source": [
    "# Импорт библиотек\n",
    "import torch\n",
    "import torch.nn as nn\n",
    "from torch.autograd import Variable"
   ]
  },
  {
   "cell_type": "code",
   "execution_count": 11,
   "metadata": {},
   "outputs": [],
   "source": [
    "# Создание ANN модели\n",
    "class ANNModel(nn.Module):\n",
    "    \n",
    "    def __init__(self, input_dim, hidden_dim1, hidden_dim2, hidden_dim3, hidden_dim4, output_dim):\n",
    "        super(ANNModel, self).__init__()\n",
    "        \n",
    "        # Линейная функция 1: 784 --> 150\n",
    "        self.fc1 = nn.Linear(input_dim, hidden_dim) \n",
    "        # Не линейная функция 1\n",
    "        self.relu1 = nn.ReLU()\n",
    "        \n",
    "        # Linear function 2: 150 --> 150\n",
    "        self.fc2 = nn.Linear(hidden_dim, hidden_dim)\n",
    "        # Не линейная функция 2\n",
    "        self.tanh2 = nn.Tanh()\n",
    "        \n",
    "        # Linear function 3: 150 --> 150\n",
    "        self.fc3 = nn.Linear(hidden_dim, hidden_dim)\n",
    "        # Не линейная функция 3\n",
    "        self.elu3 = nn.ELU()\n",
    "        \n",
    "        # Linear function 4 (readout): 150 --> 10\n",
    "        self.fc4 = nn.Linear(hidden_dim, output_dim)  \n",
    "    \n",
    "    def forward(self, x):\n",
    "        # Линейная функция 1\n",
    "        out = self.fc1(x)\n",
    "        # Не линейная функция 1\n",
    "        out = self.relu1(out)\n",
    "        \n",
    "        # Линейная функция 2\n",
    "        out = self.fc2(out)\n",
    "        # Не линейная функция 2\n",
    "        out = self.tanh2(out)\n",
    "        \n",
    "        # Линейная функция 2\n",
    "        out = self.fc3(out)\n",
    "        # Не линейная функция 2\n",
    "        out = self.elu3(out)\n",
    "        \n",
    "        # Линейная функция 4 (readout)\n",
    "        out = self.fc4(out)\n",
    "        return out\n",
    "\n",
    "# Зададим параметры сети ANN\n",
    "input_dim = 28*28\n",
    "hidden_dim1 = 50 #Размерности скрытых слоев это гиперпараметры которые настраиваются во время обучения. 150 было выбрано произвольно\n",
    "hidden_dim2 = 200\n",
    "hidden_dim3 = 74\n",
    "hidden_dim4 = 115\n",
    "output_dim = 10\n",
    "\n",
    "# Создадим экземпляр ANN\n",
    "model = ANNModel(input_dim, hidden_dim1, hidden_dim2, hidden_dim3,hidden_dim4, output_dim)\n",
    "\n",
    "# Зададим loss функцию как кросс энтропию\n",
    "error = nn.CrossEntropyLoss()\n",
    "\n",
    "# SGD оптимизатор\n",
    "learning_rate = 0.02\n",
    "optimizer = torch.optim.SGD(model.parameters(), lr=learning_rate)"
   ]
  },
  {
   "cell_type": "code",
   "execution_count": 12,
   "metadata": {},
   "outputs": [
    {
     "name": "stdout",
     "output_type": "stream",
     "text": [
      "Iteration: 500  Loss: 0.7460307478904724  Accuracy: 79.42857360839844 %\n",
      "Iteration: 1000  Loss: 0.45754361152648926  Accuracy: 87.89286041259766 %\n",
      "Iteration: 1500  Loss: 0.24368451535701752  Accuracy: 89.28571319580078 %\n",
      "Iteration: 2000  Loss: 0.2963241934776306  Accuracy: 90.36904907226562 %\n",
      "Iteration: 2500  Loss: 0.3275548815727234  Accuracy: 91.55952453613281 %\n",
      "Iteration: 3000  Loss: 0.13101787865161896  Accuracy: 92.22618865966797 %\n",
      "Iteration: 3500  Loss: 0.24853023886680603  Accuracy: 93.11904907226562 %\n",
      "Iteration: 4000  Loss: 0.07540720701217651  Accuracy: 93.54762268066406 %\n",
      "Iteration: 4500  Loss: 0.33215683698654175  Accuracy: 94.17857360839844 %\n",
      "Iteration: 5000  Loss: 0.10649619996547699  Accuracy: 94.46428680419922 %\n",
      "Iteration: 5500  Loss: 0.1822831779718399  Accuracy: 94.67857360839844 %\n",
      "Iteration: 6000  Loss: 0.2215009182691574  Accuracy: 94.89286041259766 %\n",
      "Iteration: 6500  Loss: 0.09835625439882278  Accuracy: 95.42857360839844 %\n",
      "Iteration: 7000  Loss: 0.12337236106395721  Accuracy: 95.64286041259766 %\n",
      "Iteration: 7500  Loss: 0.10863328725099564  Accuracy: 95.58333587646484 %\n",
      "Iteration: 8000  Loss: 0.17281517386436462  Accuracy: 95.75 %\n",
      "Iteration: 8500  Loss: 0.06972388178110123  Accuracy: 95.76190185546875 %\n",
      "Iteration: 9000  Loss: 0.052262574434280396  Accuracy: 96.10713958740234 %\n",
      "Iteration: 9500  Loss: 0.02214827574789524  Accuracy: 96.03571319580078 %\n"
     ]
    }
   ],
   "source": [
    "# Обучение модели\n",
    "count = 0\n",
    "loss_list = []\n",
    "iteration_list = []\n",
    "accuracy_list = []\n",
    "for epoch in range(num_epochs):\n",
    "    for i, (images, labels) in enumerate(train_loader):\n",
    "\n",
    "        train = Variable(images.view(-1, 28*28))\n",
    "        labels = Variable(labels)\n",
    "        \n",
    "        # Обнулим градиенты\n",
    "        optimizer.zero_grad()\n",
    "        \n",
    "        # Проведем forward propagation\n",
    "        outputs = model(train)\n",
    "        \n",
    "        # Посчитаем loss функцию \n",
    "        loss = error(outputs, labels)\n",
    "        \n",
    "        # Расчитаем градиенты\n",
    "        loss.backward()\n",
    "        \n",
    "        # Обновим параметры сети\n",
    "        optimizer.step()\n",
    "        \n",
    "        count += 1\n",
    "        \n",
    "        if count % 50 == 0:\n",
    "            # Подсчет точности        \n",
    "            correct = 0\n",
    "            total = 0\n",
    "            # Работа с тестовым датасетом\n",
    "            for images, labels in test_loader:\n",
    "\n",
    "                test = Variable(images.view(-1, 28*28))\n",
    "                \n",
    "                # Проведем Forward propagation\n",
    "                outputs = model(test)\n",
    "                \n",
    "                # Get predictions from the maximum value\n",
    "                predicted = torch.max(outputs.data, 1)[1]\n",
    "                \n",
    "                # Total number of labels\n",
    "                total += len(labels)\n",
    "\n",
    "                # Total correct predictions\n",
    "                correct += (predicted == labels).sum()\n",
    "            \n",
    "            accuracy = 100 * correct / float(total)\n",
    "            \n",
    "            # Сохраним loss и iteration\n",
    "            loss_list.append(loss.data)\n",
    "            iteration_list.append(count)\n",
    "            accuracy_list.append(accuracy)\n",
    "        if count % 500 == 0:\n",
    "            # Выведем Loss\n",
    "            print('Iteration: {}  Loss: {}  Accuracy: {} %'.format(count, loss.data, accuracy))"
   ]
  },
  {
   "cell_type": "code",
   "execution_count": 13,
   "metadata": {},
   "outputs": [
    {
     "data": {
      "image/png": "[encoded data removed]",
      "text/plain": [
       "<Figure size 432x288 with 1 Axes>"
      ]
     },
     "metadata": {
      "needs_background": "light"
     },
     "output_type": "display_data"
    },
    {
     "data": {
      "image/png": "[encoded data removed]",
      "text/plain": [
       "<Figure size 432x288 with 1 Axes>"
      ]
     },
     "metadata": {
      "needs_background": "light"
     },
     "output_type": "display_data"
    }
   ],
   "source": [
    "# Визуализация loss \n",
    "plt.plot(iteration_list,loss_list)\n",
    "plt.xlabel(\"Number of iteration\")\n",
    "plt.ylabel(\"Loss\")\n",
    "plt.title(\"ANN: Loss vs Number of iteration\")\n",
    "plt.show()\n",
    "\n",
    "# Визуализация accuracy \n",
    "plt.plot(iteration_list,accuracy_list,color = \"red\")\n",
    "plt.xlabel(\"Number of iteration\")\n",
    "plt.ylabel(\"Accuracy\")\n",
    "plt.title(\"ANN: Accuracy vs Number of iteration\")\n",
    "plt.show()"
   ]
  }
 ],
 "metadata": {
  "kernelspec": {
   "display_name": "Python 3",
   "language": "python",
   "name": "python3"
  },
  "language_info": {
   "codemirror_mode": {
    "name": "ipython",
    "version": 3
   },
   "file_extension": ".py",
   "mimetype": "text/x-python",
   "name": "python",
   "nbconvert_exporter": "python",
   "pygments_lexer": "ipython3",
   "version": "3.7.4"
  }
 },
 "nbformat": 4,
 "nbformat_minor": 4
}
