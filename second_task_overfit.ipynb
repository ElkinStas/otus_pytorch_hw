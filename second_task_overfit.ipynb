{
 "cells": [
  {
   "cell_type": "code",
   "execution_count": 1,
   "metadata": {},
   "outputs": [],
   "source": [
    "# Импортируем библиотеки\n",
    "import torch\n",
    "import torch.nn as nn\n",
    "import matplotlib.pyplot as plt\n",
    "from tensorflow import keras\n",
    "import numpy as np\n",
    "\n",
    "from torch.autograd import Variable\n",
    "from torch.utils.data import DataLoader\n",
    "import pandas as pd\n",
    "from sklearn.model_selection import train_test_split"
   ]
  },
  {
   "cell_type": "code",
   "execution_count": 46,
   "metadata": {},
   "outputs": [
    {
     "name": "stdout",
     "output_type": "stream",
     "text": [
      "100\n"
     ]
    },
    {
     "data": {
      "image/png": "[encoded data removed]",
      "text/plain": [
       "<Figure size 432x288 with 1 Axes>"
      ]
     },
     "metadata": {
      "needs_background": "light"
     },
     "output_type": "display_data"
    }
   ],
   "source": [
    "fashion_mnist = keras.datasets.fashion_mnist\n",
    "\n",
    "(train_images, train_labels), (test_images, test_labels) = fashion_mnist.load_data()\n",
    "targets_train = train_labels[0:100]\n",
    "features_train = train_images[0:100]/100\n",
    "print(len(features_train))\n",
    "targets_test = test_labels\n",
    "features_test = test_images/255\n",
    "\n",
    "featuresTrain = torch.from_numpy(features_train)\n",
    "targetsTrain = torch.from_numpy(targets_train).type(torch.LongTensor) \n",
    "\n",
    "# Аналогично для тестового датасета.\n",
    "featuresTest = torch.from_numpy(features_test)\n",
    "targetsTest = torch.from_numpy(targets_test).type(torch.LongTensor)\n",
    "\n",
    "# batch_size == размер батча, epoch == количество эпох обучения и iteration == количество итераций\n",
    "batch_size = 100\n",
    "n_iters = 10000\n",
    "num_epochs = n_iters / (len(features_train) / batch_size)\n",
    "num_epochs = int(num_epochs)\n",
    "\n",
    "# Датасет в Pytorch \n",
    "train = torch.utils.data.TensorDataset(featuresTrain,targetsTrain)\n",
    "test = torch.utils.data.TensorDataset(featuresTest,targetsTest)\n",
    "\n",
    "# создадим загрузчик данных в PyTorch - data loader\n",
    "train_loader = DataLoader(train, batch_size = batch_size, shuffle = False)\n",
    "test_loader = DataLoader(test, batch_size = batch_size, shuffle = False)\n",
    "\n",
    "# Визуализируем одно из изображений\n",
    "plt.imshow(features_test[10].reshape(28,28))\n",
    "plt.axis(\"off\")\n",
    "plt.title(str(targets_test[10]))\n",
    "plt.savefig('graph.png')\n",
    "plt.show()\n"
   ]
  },
  {
   "cell_type": "code",
   "execution_count": 47,
   "metadata": {},
   "outputs": [],
   "source": [
    "# Импорт библиотек\n",
    "import torch\n",
    "import torch.nn as nn\n",
    "from torch.autograd import Variable"
   ]
  },
  {
   "cell_type": "code",
   "execution_count": 48,
   "metadata": {},
   "outputs": [],
   "source": [
    "# Создание ANN модели\n",
    "class ANNModel(nn.Module):\n",
    "    \n",
    "    def __init__(self, input_dim, hidden_dim, output_dim):\n",
    "        super(ANNModel, self).__init__()\n",
    "        \n",
    "        # Линейная функция 1: 784 --> 150\n",
    "        self.fc1 = nn.Linear(input_dim, hidden_dim) \n",
    "        # Не линейная функция 1\n",
    "        self.relu1 = nn.ReLU()\n",
    "        \n",
    "        # Linear function 2: 150 --> 150\n",
    "        self.fc2 = nn.Linear(hidden_dim, hidden_dim)\n",
    "        # Не линейная функция 2\n",
    "        self.tanh2 = nn.Tanh()\n",
    "        \n",
    "        # Linear function 3: 150 --> 150\n",
    "        self.fc3 = nn.Linear(hidden_dim, hidden_dim)\n",
    "        # Не линейная функция 3\n",
    "        self.elu3 = nn.ELU()\n",
    "        \n",
    "        # Linear function 4 (readout): 150 --> 10\n",
    "        self.fc4 = nn.Linear(hidden_dim, output_dim)  \n",
    "    \n",
    "    def forward(self, x):\n",
    "        # Линейная функция 1\n",
    "        out = self.fc1(x)\n",
    "        # Не линейная функция 1\n",
    "        out = self.relu1(out)\n",
    "        \n",
    "        # Линейная функция 2\n",
    "        out = self.fc2(out)\n",
    "        # Не линейная функция 2\n",
    "        out = self.relu1(out)\n",
    "        \n",
    "        # Линейная функция 2\n",
    "        out = self.fc3(out)\n",
    "        # Не линейная функция 2\n",
    "        out = self.elu3(out)\n",
    "        \n",
    "        # Линейная функция 4 (readout)\n",
    "        out = self.fc4(out)\n",
    "        return out\n",
    "\n",
    "# Зададим параметры сети ANN\n",
    "input_dim = 28*28\n",
    "hidden_dim = 40 #Размерности скрытых слоев это гиперпараметры которые настраиваются во время обучения. 150 было выбрано произвольно\n",
    "output_dim = 10\n",
    "\n",
    "# Создадим экземпляр ANN\n",
    "model = ANNModel(input_dim, hidden_dim, output_dim)\n",
    "\n",
    "# Зададим loss функцию как кросс энтропию\n",
    "error = nn.CrossEntropyLoss()\n",
    "\n",
    "# SGD оптимизатор\n",
    "learning_rate = 0.02\n",
    "optimizer = torch.optim.SGD(model.parameters(), lr=learning_rate)"
   ]
  },
  {
   "cell_type": "code",
   "execution_count": 49,
   "metadata": {},
   "outputs": [
    {
     "name": "stdout",
     "output_type": "stream",
     "text": [
      "Iteration: 500  Loss: 0.09875397384166718  Accuracy: 64.38999938964844 %\n",
      "Iteration: 1000  Loss: 0.011097397655248642  Accuracy: 66.55000305175781 %\n",
      "Iteration: 1500  Loss: 0.004233652260154486  Accuracy: 67.3499984741211 %\n",
      "Iteration: 2000  Loss: 0.002415810013189912  Accuracy: 67.58000183105469 %\n",
      "Iteration: 2500  Loss: 0.0016319995047524571  Accuracy: 67.76000213623047 %\n",
      "Iteration: 3000  Loss: 0.0012094329576939344  Accuracy: 67.95999908447266 %\n",
      "Iteration: 3500  Loss: 0.0009497184073552489  Accuracy: 67.95999908447266 %\n",
      "Iteration: 4000  Loss: 0.0007757511921226978  Accuracy: 68.08000183105469 %\n",
      "Iteration: 4500  Loss: 0.0006516692810691893  Accuracy: 68.13999938964844 %\n",
      "Iteration: 5000  Loss: 0.0005594404065050185  Accuracy: 68.22000122070312 %\n",
      "Iteration: 5500  Loss: 0.0004884616937488317  Accuracy: 68.25 %\n",
      "Iteration: 6000  Loss: 0.00043233661563135684  Accuracy: 68.23999786376953 %\n",
      "Iteration: 6500  Loss: 0.0003869667707476765  Accuracy: 68.25 %\n",
      "Iteration: 7000  Loss: 0.00034960568882524967  Accuracy: 68.30000305175781 %\n",
      "Iteration: 7500  Loss: 0.0003183494263794273  Accuracy: 68.30999755859375 %\n",
      "Iteration: 8000  Loss: 0.0002918643003795296  Accuracy: 68.33000183105469 %\n",
      "Iteration: 8500  Loss: 0.0002691377012524754  Accuracy: 68.30000305175781 %\n",
      "Iteration: 9000  Loss: 0.00024948365171439946  Accuracy: 68.29000091552734 %\n",
      "Iteration: 9500  Loss: 0.00023228950158227235  Accuracy: 68.29000091552734 %\n",
      "Iteration: 10000  Loss: 0.00021717240451835096  Accuracy: 68.30999755859375 %\n"
     ]
    }
   ],
   "source": [
    "# Обучение модели\n",
    "count = 0\n",
    "loss_list = []\n",
    "iteration_list = []\n",
    "accuracy_list = []\n",
    "for epoch in range(num_epochs):\n",
    "    for i, (images, labels) in enumerate(train_loader):\n",
    "\n",
    "        train = Variable(images.view(-1, 28*28))\n",
    "        train = train.float()\n",
    "        labels = Variable(labels)\n",
    "        \n",
    "        # Обнулим градиенты\n",
    "        optimizer.zero_grad()\n",
    "        #print(train..float())\n",
    "        # Проведем forward propagation\n",
    "        outputs = model(train)\n",
    "        \n",
    "        # Посчитаем loss функцию \n",
    "        loss = error(outputs, labels)\n",
    "        \n",
    "        # Расчитаем градиенты\n",
    "        loss.backward()\n",
    "        \n",
    "        # Обновим параметры сети\n",
    "        optimizer.step()\n",
    "        \n",
    "        count += 1\n",
    "        \n",
    "        if count % 50 == 0:\n",
    "            # Подсчет точности        \n",
    "            correct = 0\n",
    "            total = 0\n",
    "            # Работа с тестовым датасетом\n",
    "            for images, labels in test_loader:\n",
    "\n",
    "                test = Variable(images.view(-1, 28*28))\n",
    "                test = test.float()\n",
    "                # Проведем Forward propagation\n",
    "                outputs = model(test)\n",
    "                \n",
    "                # Get predictions from the maximum value\n",
    "                predicted = torch.max(outputs.data, 1)[1]\n",
    "                \n",
    "                # Total number of labels\n",
    "                total += len(labels)\n",
    "\n",
    "                # Total correct predictions\n",
    "                correct += (predicted == labels).sum()\n",
    "            \n",
    "            accuracy = 100 * correct / float(total)\n",
    "            \n",
    "            # Сохраним loss и iteration\n",
    "            loss_list.append(loss.data)\n",
    "            iteration_list.append(count)\n",
    "            accuracy_list.append(accuracy)\n",
    "        if count % 500 == 0:\n",
    "            # Выведем Loss\n",
    "            print('Iteration: {}  Loss: {}  Accuracy: {} %'.format(count, loss.data, accuracy))"
   ]
  },
  {
   "cell_type": "code",
   "execution_count": 50,
   "metadata": {},
   "outputs": [
    {
     "data": {
      "image/png": "[encoded data removed]",
      "text/plain": [
       "<Figure size 432x288 with 1 Axes>"
      ]
     },
     "metadata": {
      "needs_background": "light"
     },
     "output_type": "display_data"
    },
    {
     "data": {
      "image/png": "[encoded data removed]",
      "text/plain": [
       "<Figure size 432x288 with 1 Axes>"
      ]
     },
     "metadata": {
      "needs_background": "light"
     },
     "output_type": "display_data"
    }
   ],
   "source": [
    "# Визуализация loss \n",
    "plt.plot(iteration_list,loss_list)\n",
    "plt.xlabel(\"Number of iteration\")\n",
    "plt.ylabel(\"Loss\")\n",
    "plt.title(\"ANN: Loss vs Number of iteration\")\n",
    "plt.show()\n",
    "\n",
    "# Визуализация accuracy \n",
    "plt.plot(iteration_list,accuracy_list,color = \"red\")\n",
    "plt.xlabel(\"Number of iteration\")\n",
    "plt.ylabel(\"Accuracy\")\n",
    "plt.title(\"ANN: Accuracy vs Number of iteration\")\n",
    "plt.show()"
   ]
  },
  {
   "cell_type": "code",
   "execution_count": null,
   "metadata": {},
   "outputs": [],
   "source": []
  }
 ],
 "metadata": {
  "kernelspec": {
   "display_name": "Python 3",
   "language": "python",
   "name": "python3"
  },
  "language_info": {
   "codemirror_mode": {
    "name": "ipython",
    "version": 3
   },
   "file_extension": ".py",
   "mimetype": "text/x-python",
   "name": "python",
   "nbconvert_exporter": "python",
   "pygments_lexer": "ipython3",
   "version": "3.7.4"
  }
 },
 "nbformat": 4,
 "nbformat_minor": 4
}
